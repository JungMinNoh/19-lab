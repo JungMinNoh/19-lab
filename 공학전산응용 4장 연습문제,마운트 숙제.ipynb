{
  "nbformat": 4,
  "nbformat_minor": 0,
  "metadata": {
    "colab": {
      "name": "Untitled17.ipynb",
      "provenance": [],
      "include_colab_link": true
    },
    "kernelspec": {
      "name": "python3",
      "display_name": "Python 3"
    }
  },
  "cells": [
    {
      "cell_type": "markdown",
      "metadata": {
        "id": "view-in-github",
        "colab_type": "text"
      },
      "source": [
        "<a href=\"https://colab.research.google.com/github/JungMinNoh/19-lab/blob/master/%EA%B3%B5%ED%95%99%EC%A0%84%EC%82%B0%EC%9D%91%EC%9A%A9%204%EC%9E%A5%20%EC%97%B0%EC%8A%B5%EB%AC%B8%EC%A0%9C%2C%EB%A7%88%EC%9A%B4%ED%8A%B8%20%EC%88%99%EC%A0%9C.ipynb\" target=\"_parent\"><img src=\"https://colab.research.google.com/assets/colab-badge.svg\" alt=\"Open In Colab\"/></a>"
      ]
    },
    {
      "cell_type": "code",
      "metadata": {
        "id": "_Mp4hJyeI_VE",
        "colab_type": "code",
        "outputId": "37f294ad-2e04-48de-a9a6-a2efe12d8dc4",
        "colab": {
          "base_uri": "https://localhost:8080/",
          "height": 127
        }
      },
      "source": [
        "from google.colab import drive\n",
        "drive.mount('/content/drive')"
      ],
      "execution_count": 0,
      "outputs": [
        {
          "output_type": "stream",
          "text": [
            "Go to this URL in a browser: https://accounts.google.com/o/oauth2/auth?client_id=947318989803-6bn6qk8qdgf4n4g3pfee6491hc0brc4i.apps.googleusercontent.com&redirect_uri=urn%3Aietf%3Awg%3Aoauth%3A2.0%3Aoob&scope=email%20https%3A%2F%2Fwww.googleapis.com%2Fauth%2Fdocs.test%20https%3A%2F%2Fwww.googleapis.com%2Fauth%2Fdrive%20https%3A%2F%2Fwww.googleapis.com%2Fauth%2Fdrive.photos.readonly%20https%3A%2F%2Fwww.googleapis.com%2Fauth%2Fpeopleapi.readonly&response_type=code\n",
            "\n",
            "Enter your authorization code:\n",
            "··········\n",
            "Mounted at /content/drive\n"
          ],
          "name": "stdout"
        }
      ]
    },
    {
      "cell_type": "markdown",
      "metadata": {
        "id": "KuviGjnuvQTm",
        "colab_type": "text"
      },
      "source": [
        "# 4장 연습문제 - 14108334 노정민"
      ]
    },
    {
      "cell_type": "markdown",
      "metadata": {
        "id": "Hc6kvtzZvS54",
        "colab_type": "text"
      },
      "source": [
        "## Q1\n",
        "---"
      ]
    },
    {
      "cell_type": "markdown",
      "metadata": {
        "id": "dYAdapevvY8J",
        "colab_type": "text"
      },
      "source": [
        "주어진 자연수가 홀수인지 짝수인지 판별해 주는 함수(is_odd)를 작성해 보자."
      ]
    },
    {
      "cell_type": "code",
      "metadata": {
        "id": "5k9xeCkBvVPJ",
        "colab_type": "code",
        "colab": {}
      },
      "source": [
        "def is_odd(number):\n",
        "  if number %2 == 1:\n",
        "    return True\n",
        "  else:\n",
        "    return False"
      ],
      "execution_count": 0,
      "outputs": []
    },
    {
      "cell_type": "code",
      "metadata": {
        "id": "38wjJ9DQvtLr",
        "colab_type": "code",
        "colab": {
          "base_uri": "https://localhost:8080/",
          "height": 35
        },
        "outputId": "813a4179-854a-4204-ba00-1e739c5dc571"
      },
      "source": [
        "is_odd(1)"
      ],
      "execution_count": 7,
      "outputs": [
        {
          "output_type": "execute_result",
          "data": {
            "text/plain": [
              "True"
            ]
          },
          "metadata": {
            "tags": []
          },
          "execution_count": 7
        }
      ]
    },
    {
      "cell_type": "code",
      "metadata": {
        "id": "bwZpb5m9wPSK",
        "colab_type": "code",
        "colab": {
          "base_uri": "https://localhost:8080/",
          "height": 35
        },
        "outputId": "bd6bac24-ccf5-456f-d47a-03055dde0841"
      },
      "source": [
        "is_odd(2)"
      ],
      "execution_count": 8,
      "outputs": [
        {
          "output_type": "execute_result",
          "data": {
            "text/plain": [
              "False"
            ]
          },
          "metadata": {
            "tags": []
          },
          "execution_count": 8
        }
      ]
    },
    {
      "cell_type": "code",
      "metadata": {
        "id": "6nUdx7APwoxs",
        "colab_type": "code",
        "colab": {}
      },
      "source": [
        "is_odd = lambda x: True if x % 2 == 1 else False"
      ],
      "execution_count": 0,
      "outputs": []
    },
    {
      "cell_type": "code",
      "metadata": {
        "id": "I6NljIvVwxWt",
        "colab_type": "code",
        "colab": {
          "base_uri": "https://localhost:8080/",
          "height": 35
        },
        "outputId": "f981c518-6c85-4dcc-c908-1e120e81be3c"
      },
      "source": [
        "is_odd(3)"
      ],
      "execution_count": 11,
      "outputs": [
        {
          "output_type": "execute_result",
          "data": {
            "text/plain": [
              "True"
            ]
          },
          "metadata": {
            "tags": []
          },
          "execution_count": 11
        }
      ]
    },
    {
      "cell_type": "markdown",
      "metadata": {
        "id": "EWtBaeTtwQnF",
        "colab_type": "text"
      },
      "source": [
        "## Q2\n",
        "---"
      ]
    },
    {
      "cell_type": "markdown",
      "metadata": {
        "id": "Iq-zBIyywacd",
        "colab_type": "text"
      },
      "source": [
        "입력으로 들어오는 모든 수의 평균 값을 계산해 주는 함수를 작성해 보자. (단 입력으로 들어오는 수의 개수는 정해져 있지 않다.)  \n",
        "※ 평균 값을 구할 때 len 함수를 사용해 보자."
      ]
    },
    {
      "cell_type": "code",
      "metadata": {
        "id": "DDUaS_gAwY8P",
        "colab_type": "code",
        "colab": {}
      },
      "source": [
        "def average(*args):\n",
        "  result = 0\n",
        "  for i in args:\n",
        "    result += i\n",
        "  return result / len(args)\n",
        "  "
      ],
      "execution_count": 0,
      "outputs": []
    },
    {
      "cell_type": "code",
      "metadata": {
        "id": "330pE8jdxNG2",
        "colab_type": "code",
        "colab": {
          "base_uri": "https://localhost:8080/",
          "height": 35
        },
        "outputId": "6c27f888-ab7e-4bda-cc37-7bf99e6fe415"
      },
      "source": [
        "average(1,2)"
      ],
      "execution_count": 13,
      "outputs": [
        {
          "output_type": "execute_result",
          "data": {
            "text/plain": [
              "1.5"
            ]
          },
          "metadata": {
            "tags": []
          },
          "execution_count": 13
        }
      ]
    },
    {
      "cell_type": "code",
      "metadata": {
        "id": "sL2gwAf5xRDa",
        "colab_type": "code",
        "colab": {
          "base_uri": "https://localhost:8080/",
          "height": 35
        },
        "outputId": "a9a9cb0c-b90b-49b6-dbd6-2bc6d6e0e868"
      },
      "source": [
        "average(1,2,3,4,5)"
      ],
      "execution_count": 14,
      "outputs": [
        {
          "output_type": "execute_result",
          "data": {
            "text/plain": [
              "3.0"
            ]
          },
          "metadata": {
            "tags": []
          },
          "execution_count": 14
        }
      ]
    },
    {
      "cell_type": "markdown",
      "metadata": {
        "id": "j_FHYKxLxT7S",
        "colab_type": "text"
      },
      "source": [
        "## Q3\n",
        "---"
      ]
    },
    {
      "cell_type": "markdown",
      "metadata": {
        "id": "NajP7hEdxVjy",
        "colab_type": "text"
      },
      "source": [
        "다음은 두 개의 숫자를 입력받아 더하여 돌려주는 프로그램이다."
      ]
    },
    {
      "cell_type": "markdown",
      "metadata": {
        "id": "_SAJ9CUdxdMF",
        "colab_type": "text"
      },
      "source": [
        "input1 = input(\"첫번째 숫자를 입력하세요:\")  \n",
        "input2 = input(\"두번째 숫자를 입력하세요:\")  \n",
        "\n",
        "total = input1 + input2  \n",
        "print(\"두 수의 합은 %s 입니다\" % total)  "
      ]
    },
    {
      "cell_type": "markdown",
      "metadata": {
        "id": "XON5gXEUxdN1",
        "colab_type": "text"
      },
      "source": [
        "이 프로그램을 수행해 보자.  \n",
        "첫번째 숫자를 입력하세요:3  \n",
        "두번째 숫자를 입력하세요:6  \n",
        "두 수의 합은 36 입니다  \n",
        "3과 6을 입력했을 때 9가 아닌 36이라는 결괏값을 돌려주었다. 이 프로그램의 오류를 수정해 보자.  \n",
        "※ int 함수를 사용해 보자.  "
      ]
    },
    {
      "cell_type": "code",
      "metadata": {
        "id": "SGSJcgJzxY_e",
        "colab_type": "code",
        "colab": {
          "base_uri": "https://localhost:8080/",
          "height": 71
        },
        "outputId": "0dfa8c04-8d11-4cd5-d4d2-5eac0d1947c6"
      },
      "source": [
        "input1 = input(\"첫번째 숫자를 입력하세요:\")\n",
        "input2 = input(\"두번째 숫자를 입력하세요:\")\n",
        "\n",
        "total = input1 + input2\n",
        "print(\"두 수의 합은 %s 입니다\" % total)"
      ],
      "execution_count": 15,
      "outputs": [
        {
          "output_type": "stream",
          "text": [
            "첫번째 숫자를 입력하세요:3\n",
            "두번째 숫자를 입력하세요:6\n",
            "두 수의 합은 36 입니다\n"
          ],
          "name": "stdout"
        }
      ]
    },
    {
      "cell_type": "code",
      "metadata": {
        "id": "wF3JC412xZLM",
        "colab_type": "code",
        "colab": {
          "base_uri": "https://localhost:8080/",
          "height": 71
        },
        "outputId": "16e4cfa1-9eac-4bb8-fae4-bfec4ba210ff"
      },
      "source": [
        "input1 = input(\"첫 번째 숫자를 입력하세요:\")\n",
        "input2 = input(\"두 번째 숫자를 입력하세요:\")\n",
        "\n",
        "total = int(input1) + int(input2)      \n",
        "print(\"두수의 합은 %s 입니다\" % total)"
      ],
      "execution_count": 16,
      "outputs": [
        {
          "output_type": "stream",
          "text": [
            "첫 번째 숫자를 입력하세요:3\n",
            "두 번째 숫자를 입력하세요:6\n",
            "두수의 합은 9 입니다\n"
          ],
          "name": "stdout"
        }
      ]
    },
    {
      "cell_type": "markdown",
      "metadata": {
        "id": "jLWeiQMCyLT9",
        "colab_type": "text"
      },
      "source": [
        "## Q4\n",
        "---"
      ]
    },
    {
      "cell_type": "markdown",
      "metadata": {
        "id": "G-DP83GcyTb1",
        "colab_type": "text"
      },
      "source": [
        "다음 중 출력 결과가 다른 것 한 개를 골라 보자.  \n",
        "print(\"you\" \"need\" \"python\")  \n",
        "print(\"you\"+\"need\"+\"python\")  \n",
        "print(\"you\", \"need\", \"python\")  \n",
        "print(\"\".join([\"you\", \"need\", \"python\"]))  "
      ]
    },
    {
      "cell_type": "code",
      "metadata": {
        "id": "HUKLERM4yXTN",
        "colab_type": "code",
        "colab": {
          "base_uri": "https://localhost:8080/",
          "height": 89
        },
        "outputId": "34d2df8e-8512-438c-e78b-f38662c8d4cc"
      },
      "source": [
        "print(\"you\" \"need\" \"python\")  \n",
        "print(\"you\"+\"need\"+\"python\")  \n",
        "print(\"you\", \"need\", \"python\")  \n",
        "print(\"\".join([\"you\", \"need\", \"python\"]))"
      ],
      "execution_count": 19,
      "outputs": [
        {
          "output_type": "stream",
          "text": [
            "youneedpython\n",
            "youneedpython\n",
            "you need python\n",
            "youneedpython\n"
          ],
          "name": "stdout"
        }
      ]
    },
    {
      "cell_type": "code",
      "metadata": {
        "id": "66ED_QbTyjjE",
        "colab_type": "code",
        "colab": {
          "base_uri": "https://localhost:8080/",
          "height": 89
        },
        "outputId": "50e4b8a4-059d-49a8-8448-7fc4e3f721b3"
      },
      "source": [
        "print(\"you\" \"need\" \"python\")  \n",
        "print(\"you\"+\"need\"+\"python\")  \n",
        "print(\"you\",\"need\", \"python\")  # 콤마가 있는 경우 공백이 삽입되어 더해진다.\n",
        "print(\" \".join([\"you\", \"need\", \"python\"])) #공백을 넣고 싶으면 \" \"에 공백을 한칸 넣어 준다"
      ],
      "execution_count": 23,
      "outputs": [
        {
          "output_type": "stream",
          "text": [
            "youneedpython\n",
            "youneedpython\n",
            "you need python\n",
            "you need python\n"
          ],
          "name": "stdout"
        }
      ]
    },
    {
      "cell_type": "markdown",
      "metadata": {
        "id": "OANY_Xxyy2uc",
        "colab_type": "text"
      },
      "source": [
        "## Q5\n",
        "---"
      ]
    },
    {
      "cell_type": "markdown",
      "metadata": {
        "id": "_27zsSe_y5tV",
        "colab_type": "text"
      },
      "source": [
        "다음은 \"test.txt\"라는 파일에 \"Life is too short\" 문자열을 저장한 후 다시 그 파일을 읽어서 출력하는 프로그램이다.  \n",
        "  \n",
        "f1 = open(\"test.txt\", 'w')  \n",
        "f1.write(\"Life is too short\")  \n",
        "  \n",
        "f2 = open(\"test.txt\", 'r')  \n",
        "print(f2.read())  \n",
        "\n",
        "이 프로그램은 우리가 예상한 \"Life is too short\"라는 문장을 출력하지 않는다. 우리가 예상한 값을 출력할 수 있도록 프로그램을 수정해 보자."
      ]
    },
    {
      "cell_type": "code",
      "metadata": {
        "id": "Tft2uohxzEw6",
        "colab_type": "code",
        "colab": {
          "base_uri": "https://localhost:8080/",
          "height": 35
        },
        "outputId": "11ed6f3e-f25f-4d8e-ec20-7a5a3ec3cf09"
      },
      "source": [
        "f1 = open(\"test.txt\", 'w')  \n",
        "f1.write(\"Life is too short\")  \n",
        "  \n",
        "f2 = open(\"test.txt\", 'r')  \n",
        "print(f2.read())"
      ],
      "execution_count": 24,
      "outputs": [
        {
          "output_type": "stream",
          "text": [
            "\n"
          ],
          "name": "stdout"
        }
      ]
    },
    {
      "cell_type": "code",
      "metadata": {
        "id": "2isF5XDFzHev",
        "colab_type": "code",
        "colab": {
          "base_uri": "https://localhost:8080/",
          "height": 35
        },
        "outputId": "00804237-cc0f-482b-e324-e31b213ae795"
      },
      "source": [
        "f1 = open(\"test.txt\", 'w')  \n",
        "f1.write(\"Life is too short\")\n",
        "  \n",
        "f2 = open(\"test.txt\", 'r')\n",
        "data = f2.read() # data 로 지정 해 준 후 읽는다\n",
        "print(data)"
      ],
      "execution_count": 32,
      "outputs": [
        {
          "output_type": "stream",
          "text": [
            "Life is too short\n"
          ],
          "name": "stdout"
        }
      ]
    },
    {
      "cell_type": "code",
      "metadata": {
        "id": "WpT3grBI1crJ",
        "colab_type": "code",
        "colab": {
          "base_uri": "https://localhost:8080/",
          "height": 35
        },
        "outputId": "104bcab7-9222-47f3-813d-f2bbf683d3fe"
      },
      "source": [
        "f1 = open(\"test.txt\", 'w')\n",
        "f1.write(\"Life is too short\")\n",
        "f1.close() #close 를 사용해 저장해준후 파일을 오픈한다\n",
        "\n",
        "f2 = open(\"test.txt\", 'r')\n",
        "print(f2.read())"
      ],
      "execution_count": 30,
      "outputs": [
        {
          "output_type": "stream",
          "text": [
            "Life is too short\n"
          ],
          "name": "stdout"
        }
      ]
    },
    {
      "cell_type": "markdown",
      "metadata": {
        "id": "aXMdI4Yt2a7_",
        "colab_type": "text"
      },
      "source": [
        "## Q6\n",
        "---"
      ]
    },
    {
      "cell_type": "markdown",
      "metadata": {
        "id": "JdtsXVfV22Cf",
        "colab_type": "text"
      },
      "source": [
        "사용자의 입력을 파일(test.txt)에 저장하는 프로그램을 작성해 보자. (단 프로그램을 다시 실행하더라도 기존에 작성한 내용을 유지하고 새로 입력한 내용을 추가해야 한다.)"
      ]
    },
    {
      "cell_type": "code",
      "metadata": {
        "id": "CEzaNT6n22sT",
        "colab_type": "code",
        "colab": {
          "base_uri": "https://localhost:8080/",
          "height": 35
        },
        "outputId": "ca4b5e17-fe39-4f04-a9d6-e88eb16ce8b8"
      },
      "source": [
        "user_input = input(\"저장할 내용을 입력하세요:\")\n",
        "f = open('test.txt', 'a')   # 내용을 추가하기 위해서 'a'를 사용\n",
        "f.write(user_input)\n",
        "f.write(\"\\n\")               # 입력된 내용을 줄 단위로 구분하기 위해 줄 바꿈 문자 삽입\n",
        "f.close()"
      ],
      "execution_count": 35,
      "outputs": [
        {
          "output_type": "stream",
          "text": [
            "저장할 내용을 입력하세요:1\n"
          ],
          "name": "stdout"
        }
      ]
    },
    {
      "cell_type": "markdown",
      "metadata": {
        "id": "Iq3Bu5Ty5Seh",
        "colab_type": "text"
      },
      "source": [
        "## Q7\n",
        "---"
      ]
    },
    {
      "cell_type": "markdown",
      "metadata": {
        "id": "QUR7i2335XAR",
        "colab_type": "text"
      },
      "source": [
        "다음과 같은 내용을 지닌 파일 test.txt가 있다. 이 파일의 내용 중 \"java\"라는 문자열을 \"python\"으로 바꾸어서 저장해 보자.  \n",
        "Life is too short  \n",
        "you need java  \n",
        "※ replace 함수를 사용해 보자.  "
      ]
    },
    {
      "cell_type": "code",
      "metadata": {
        "id": "hI_AjOvc5aa0",
        "colab_type": "code",
        "colab": {
          "base_uri": "https://localhost:8080/",
          "height": 53
        },
        "outputId": "565eb69d-f639-43c5-9214-c3ff7a70de61"
      },
      "source": [
        "f = open('test.txt','w')\n",
        "f.write(\"Life is too short \\n you need java\")\n",
        "f.close()\n",
        "\n",
        "f = open('test.txt', 'r')\n",
        "body = f.read()\n",
        "f.close()\n",
        "\n",
        "body = body.replace('java', 'python')\n",
        "\n",
        "f = open('test.txt', 'w')\n",
        "f.write(body)\n",
        "f.close()\n",
        "\n",
        "f = open(\"test.txt\", 'r')\n",
        "data = f.read()\n",
        "print(data)\n",
        "f.close()\n",
        "\n"
      ],
      "execution_count": 54,
      "outputs": [
        {
          "output_type": "stream",
          "text": [
            "Life is too short \n",
            " you need python\n"
          ],
          "name": "stdout"
        }
      ]
    }
  ]
}