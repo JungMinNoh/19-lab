{
  "nbformat": 4,
  "nbformat_minor": 0,
  "metadata": {
    "colab": {
      "name": "점프 투 파이썬 4장  신경막 학습 숙제 2019.9.24.ipynb",
      "provenance": [],
      "include_colab_link": true
    },
    "kernelspec": {
      "name": "python3",
      "display_name": "Python 3"
    }
  },
  "cells": [
    {
      "cell_type": "markdown",
      "metadata": {
        "id": "view-in-github",
        "colab_type": "text"
      },
      "source": [
        "<a href=\"https://colab.research.google.com/github/JungMinNoh/19-lab/blob/master/%EC%A0%90%ED%94%84_%ED%88%AC_%ED%8C%8C%EC%9D%B4%EC%8D%AC_4%EC%9E%A5_%EC%8B%A0%EA%B2%BD%EB%A7%89_%ED%95%99%EC%8A%B5_%EC%88%99%EC%A0%9C_2019_9_24.ipynb\" target=\"_parent\"><img src=\"https://colab.research.google.com/assets/colab-badge.svg\" alt=\"Open In Colab\"/></a>"
      ]
    },
    {
      "cell_type": "markdown",
      "metadata": {
        "id": "tWiORA43cg99",
        "colab_type": "text"
      },
      "source": [
        "# 4.3 수치미분"
      ]
    },
    {
      "cell_type": "markdown",
      "metadata": {
        "id": "lHyMGe4CdH3C",
        "colab_type": "text"
      },
      "source": [
        "##4.3.1 미분"
      ]
    },
    {
      "cell_type": "code",
      "metadata": {
        "id": "zpGdl6NicjXx",
        "colab_type": "code",
        "colab": {}
      },
      "source": [
        "def numerical_diff(f,x):\n",
        "  h = 10e-50\n",
        "  return (f(x+h)-f(x))/h"
      ],
      "execution_count": 0,
      "outputs": []
    },
    {
      "cell_type": "code",
      "metadata": {
        "id": "erDt-Rr_cuuJ",
        "colab_type": "code",
        "outputId": "710748b8-b465-4cc1-87ad-7c5ce691464f",
        "colab": {
          "base_uri": "https://localhost:8080/",
          "height": 172
        }
      },
      "source": [
        "np.float32(1e-50)"
      ],
      "execution_count": 0,
      "outputs": [
        {
          "output_type": "error",
          "ename": "NameError",
          "evalue": "ignored",
          "traceback": [
            "\u001b[0;31m---------------------------------------------------------------------------\u001b[0m",
            "\u001b[0;31mNameError\u001b[0m                                 Traceback (most recent call last)",
            "\u001b[0;32m<ipython-input-2-b5a366cb01d7>\u001b[0m in \u001b[0;36m<module>\u001b[0;34m()\u001b[0m\n\u001b[0;32m----> 1\u001b[0;31m \u001b[0mnp\u001b[0m\u001b[0;34m.\u001b[0m\u001b[0mfloat32\u001b[0m\u001b[0;34m(\u001b[0m\u001b[0;36m1e-50\u001b[0m\u001b[0;34m)\u001b[0m\u001b[0;34m\u001b[0m\u001b[0;34m\u001b[0m\u001b[0m\n\u001b[0m",
            "\u001b[0;31mNameError\u001b[0m: name 'np' is not defined"
          ]
        }
      ]
    },
    {
      "cell_type": "markdown",
      "metadata": {
        "id": "aZaKc_u2dW3Q",
        "colab_type": "text"
      },
      "source": [
        "진정한 미분(진정한 접선)과 수치 미분(근사로 구한 접선)의 값은 다르다.\n"
      ]
    },
    {
      "cell_type": "markdown",
      "metadata": {
        "id": "X3FMTZHbdy6y",
        "colab_type": "text"
      },
      "source": [
        "### 첫번째 문제\n",
        "앞의 식의 구현에서는 h 에 가급적 작은 값을 대입하고 싶었기에 10e^-50이라는 작은 값을 이용했다.\n",
        "이 값은 0.000....1 의 형태에서 소수점 아래 0이 49개라는 의미인데, 이 방식은 반올림 오차 문제를 일으킨다. 반올림 오차는 작은값 (가령 소수점 8자리 이하)가 생략되어 최종계산 결과에 오차를 발생하게 한다."
      ]
    },
    {
      "cell_type": "markdown",
      "metadata": {
        "id": "LXNyXQiBeXB4",
        "colab_type": "text"
      },
      "source": [
        "### 두번째 문제\n",
        "함수 f의 차분과 관련된것. 앞의 구현에서는 x+h와 x사이의 함수 f의 차분을 계산하고 있지만, 애당초 이 계산에는 오차가 있다.\n",
        "진정한 미분은 x 위치의 함수의 기울기(접선)에 해당하지만, 이 번 구현에서 미분은 x+h와 x 사이의 기울기에 해당한다."
      ]
    },
    {
      "cell_type": "markdown",
      "metadata": {
        "id": "urcxSCeKeuIx",
        "colab_type": "text"
      },
      "source": [
        "두 개선점을 이용 -> (x+h) 와 (x-h)의 차분을 계산. **중심차분, 중앙차분** 으로 미분을 구현해본다"
      ]
    },
    {
      "cell_type": "code",
      "metadata": {
        "id": "t8mSctZCc6An",
        "colab_type": "code",
        "colab": {}
      },
      "source": [
        "def numerical_diff(f,x):\n",
        "  h = 1e-4\n",
        "  return (f(x+h)-f(x-h))/(2*h)"
      ],
      "execution_count": 0,
      "outputs": []
    },
    {
      "cell_type": "markdown",
      "metadata": {
        "id": "xmqTQOAJfUf3",
        "colab_type": "text"
      },
      "source": [
        "1.   **해석적 미분** = 오차를 포함하지 않는 진정한 미분\n",
        "2.   **수치적 미분** = 근사치로 계산한 미분"
      ]
    },
    {
      "cell_type": "markdown",
      "metadata": {
        "id": "LVgkJF7cf3Pz",
        "colab_type": "text"
      },
      "source": [
        "## 4.3.2 수치 미분의 예"
      ]
    },
    {
      "cell_type": "code",
      "metadata": {
        "id": "odD9uJUteoju",
        "colab_type": "code",
        "colab": {}
      },
      "source": [
        "def function_1(x):\n",
        "  return 0.01*x**2 + 0.1*x # y= 0.01x^2 + 0.1x 나타낸 수식\n",
        "  "
      ],
      "execution_count": 0,
      "outputs": []
    },
    {
      "cell_type": "code",
      "metadata": {
        "id": "5JAzl-fxf5oX",
        "colab_type": "code",
        "outputId": "e10aedcb-662f-45eb-86b3-d38263aa0067",
        "colab": {
          "base_uri": "https://localhost:8080/",
          "height": 283
        }
      },
      "source": [
        "import numpy as np\n",
        "import matplotlib.pylab as plt\n",
        "\n",
        "x = np.arange(0.0, 20.0, 0.1) # 0 에서 20까지 0.1 간격의 배열 x 를 만든다 (20은 미포함)\n",
        "y = function_1(x) # y를 f(x) 로 지정\n",
        "plt.xlabel(\"x\") # x 축을 x로 명명\n",
        "plt.ylabel(\"f(x)\") # y 축을 f(x)로 명명\n",
        "plt.plot(x,y) #(x,y)에 대해서 plot 하라\n",
        "plt.show()"
      ],
      "execution_count": 0,
      "outputs": [
        {
          "output_type": "display_data",
          "data": {
            "image/png": "[encoded data removed]",
            "text/plain": [
              "<Figure size 432x288 with 1 Axes>"
            ]
          },
          "metadata": {
            "tags": []
          }
        }
      ]
    },
    {
      "cell_type": "markdown",
      "metadata": {
        "id": "i9eF0Lizg299",
        "colab_type": "text"
      },
      "source": [
        "x=5 일때와 10일때 이 함수의 미분을 계산해보자"
      ]
    },
    {
      "cell_type": "code",
      "metadata": {
        "id": "9QcX-hy9gkkn",
        "colab_type": "code",
        "outputId": "ebccaa18-7fd8-4cfd-b758-153118cee1b0",
        "colab": {
          "base_uri": "https://localhost:8080/",
          "height": 35
        }
      },
      "source": [
        "numerical_diff(function_1,5) # diff 는 미분"
      ],
      "execution_count": 0,
      "outputs": [
        {
          "output_type": "execute_result",
          "data": {
            "text/plain": [
              "0.1999999999990898"
            ]
          },
          "metadata": {
            "tags": []
          },
          "execution_count": 10
        }
      ]
    },
    {
      "cell_type": "code",
      "metadata": {
        "id": "2V8opiI-g5xu",
        "colab_type": "code",
        "outputId": "5d2d9199-0158-4fd1-ecb2-59884bd452d2",
        "colab": {
          "base_uri": "https://localhost:8080/",
          "height": 35
        }
      },
      "source": [
        "numerical_diff(function_1,10)"
      ],
      "execution_count": 0,
      "outputs": [
        {
          "output_type": "execute_result",
          "data": {
            "text/plain": [
              "0.2999999999986347"
            ]
          },
          "metadata": {
            "tags": []
          },
          "execution_count": 9
        }
      ]
    },
    {
      "cell_type": "markdown",
      "metadata": {
        "id": "9OLO7aQOhTA3",
        "colab_type": "text"
      },
      "source": [
        "해석적 해는 df(x)/dx = 0.02x+01 이다. x가 5일때와 10일때의 '진정한 미분'은 0.2와 0.3 인데 수치 미분의 결과를 비교해보면 그 오차는 매우 작다"
      ]
    },
    {
      "cell_type": "code",
      "metadata": {
        "id": "EwZzgt9VtNnf",
        "colab_type": "code",
        "outputId": "0ae6899e-698d-48d3-f7f5-3b143570ca38",
        "colab": {
          "base_uri": "https://localhost:8080/",
          "height": 301
        }
      },
      "source": [
        "# coding: utf-8\n",
        "import numpy as np\n",
        "import matplotlib.pylab as plt\n",
        "\n",
        "\n",
        "def numerical_diff(f, x):\n",
        "    h = 1e-4 # 0.0001\n",
        "    return (f(x+h) - f(x-h)) / (2*h)\n",
        "\n",
        "\n",
        "def function_1(x):\n",
        "    return 0.01*x**2 + 0.1*x \n",
        "\n",
        "\n",
        "def tangent_line(f, x):\n",
        "    d = numerical_diff(f, x)\n",
        "    print(d)\n",
        "    y = f(x) - d*x\n",
        "    return lambda t: d*t + y\n",
        "     \n",
        "x = np.arange(0.0, 20.0, 0.1)\n",
        "y = function_1(x)\n",
        "plt.xlabel(\"x\")\n",
        "plt.ylabel(\"f(x)\")\n",
        "\n",
        "tf = tangent_line(function_1, 5)\n",
        "y2 = tf(x)\n",
        "\n",
        "plt.plot(x, y)\n",
        "plt.plot(x, y2)\n",
        "plt.show()"
      ],
      "execution_count": 0,
      "outputs": [
        {
          "output_type": "stream",
          "text": [
            "0.1999999999990898\n"
          ],
          "name": "stdout"
        },
        {
          "output_type": "display_data",
          "data": {
            "image/png": "[encoded data removed]",
            "text/plain": [
              "<Figure size 432x288 with 1 Axes>"
            ]
          },
          "metadata": {
            "tags": []
          }
        }
      ]
    },
    {
      "cell_type": "markdown",
      "metadata": {
        "id": "W1VGhABAhlyP",
        "colab_type": "text"
      },
      "source": [
        "## 4.3.3 편미분"
      ]
    },
    {
      "cell_type": "markdown",
      "metadata": {
        "id": "FTgw3UD5hy4L",
        "colab_type": "text"
      },
      "source": [
        "f(x0,x1)=x0^2+x1^2 을 구현해보자. 앞의 예와 달리 변수는 x0,x1 2개이다."
      ]
    },
    {
      "cell_type": "code",
      "metadata": {
        "id": "94PgngyyhdBk",
        "colab_type": "code",
        "colab": {}
      },
      "source": [
        "def function_2(x):\n",
        "  return x[0]**2 + x[1]**2\n",
        "  return np.sum(x**2)"
      ],
      "execution_count": 0,
      "outputs": []
    },
    {
      "cell_type": "code",
      "metadata": {
        "id": "lEEmOC-DhoB3",
        "colab_type": "code",
        "outputId": "0d9fe8c8-ed34-42c3-a7e3-fb8656ef45f8",
        "colab": {
          "base_uri": "https://localhost:8080/",
          "height": 244
        }
      },
      "source": [
        "import numpy as np\n",
        "import matplotlib.pylab as plt\n",
        "\n",
        "x[0] = np.arange(-3.0, 3.0, 1.0) # -3 에서 3까지 1 간격의 배열 x0 를 만든다 (20은 미포함)\n",
        "x[1] = np.arange(-3.0, 3.0, 1.0) # -3 에서 3까지 1 간격의 배열 x1 를 만든다 (20은 미포함)\n",
        "z = function_2(x) # z를 f(x) 로 지정\n",
        "plt.xlabel(\"x[0]\") # x 축을 x로 명명\n",
        "plt.ylabel(\"x[1]\") # y 축을 f(x)로 명명\n",
        "plt.zlabel(\"f(x0,x1)\")\n",
        "plt.plot(x[0],x[1]) #(x,y)에 대해서 plot 하라\n",
        "plt.show()"
      ],
      "execution_count": 0,
      "outputs": [
        {
          "output_type": "error",
          "ename": "ValueError",
          "evalue": "ignored",
          "traceback": [
            "\u001b[0;31m---------------------------------------------------------------------------\u001b[0m",
            "\u001b[0;31mValueError\u001b[0m                                Traceback (most recent call last)",
            "\u001b[0;32m<ipython-input-13-397cc33d13e7>\u001b[0m in \u001b[0;36m<module>\u001b[0;34m()\u001b[0m\n\u001b[1;32m      2\u001b[0m \u001b[0;32mimport\u001b[0m \u001b[0mmatplotlib\u001b[0m\u001b[0;34m.\u001b[0m\u001b[0mpylab\u001b[0m \u001b[0;32mas\u001b[0m \u001b[0mplt\u001b[0m\u001b[0;34m\u001b[0m\u001b[0;34m\u001b[0m\u001b[0m\n\u001b[1;32m      3\u001b[0m \u001b[0;34m\u001b[0m\u001b[0m\n\u001b[0;32m----> 4\u001b[0;31m \u001b[0mx\u001b[0m\u001b[0;34m[\u001b[0m\u001b[0;36m0\u001b[0m\u001b[0;34m]\u001b[0m \u001b[0;34m=\u001b[0m \u001b[0mnp\u001b[0m\u001b[0;34m.\u001b[0m\u001b[0marange\u001b[0m\u001b[0;34m(\u001b[0m\u001b[0;34m-\u001b[0m\u001b[0;36m3.0\u001b[0m\u001b[0;34m,\u001b[0m \u001b[0;36m3.0\u001b[0m\u001b[0;34m,\u001b[0m \u001b[0;36m1.0\u001b[0m\u001b[0;34m)\u001b[0m \u001b[0;31m# -3 에서 3까지 1 간격의 배열 x0 를 만든다 (20은 미포함)\u001b[0m\u001b[0;34m\u001b[0m\u001b[0;34m\u001b[0m\u001b[0m\n\u001b[0m\u001b[1;32m      5\u001b[0m \u001b[0mx\u001b[0m\u001b[0;34m[\u001b[0m\u001b[0;36m1\u001b[0m\u001b[0;34m]\u001b[0m \u001b[0;34m=\u001b[0m \u001b[0mnp\u001b[0m\u001b[0;34m.\u001b[0m\u001b[0marange\u001b[0m\u001b[0;34m(\u001b[0m\u001b[0;34m-\u001b[0m\u001b[0;36m3.0\u001b[0m\u001b[0;34m,\u001b[0m \u001b[0;36m3.0\u001b[0m\u001b[0;34m,\u001b[0m \u001b[0;36m1.0\u001b[0m\u001b[0;34m)\u001b[0m \u001b[0;31m# -3 에서 3까지 1 간격의 배열 x1 를 만든다 (20은 미포함)\u001b[0m\u001b[0;34m\u001b[0m\u001b[0;34m\u001b[0m\u001b[0m\n\u001b[1;32m      6\u001b[0m \u001b[0mz\u001b[0m \u001b[0;34m=\u001b[0m \u001b[0mfunction_2\u001b[0m\u001b[0;34m(\u001b[0m\u001b[0mx\u001b[0m\u001b[0;34m)\u001b[0m \u001b[0;31m# z를 f(x) 로 지정\u001b[0m\u001b[0;34m\u001b[0m\u001b[0;34m\u001b[0m\u001b[0m\n",
            "\u001b[0;31mValueError\u001b[0m: setting an array element with a sequence."
          ]
        }
      ]
    },
    {
      "cell_type": "code",
      "metadata": {
        "id": "-CDTREY2jOA1",
        "colab_type": "code",
        "colab": {}
      },
      "source": [
        ""
      ],
      "execution_count": 0,
      "outputs": []
    },
    {
      "cell_type": "markdown",
      "metadata": {
        "id": "qHDe_ezgj7m3",
        "colab_type": "text"
      },
      "source": [
        "3차원 그림 그릴려고 했는데 잘 안되네요. 더 찾아 보겠습니다."
      ]
    },
    {
      "cell_type": "code",
      "metadata": {
        "id": "WnaoSL0akC5s",
        "colab_type": "code",
        "colab": {}
      },
      "source": [
        ""
      ],
      "execution_count": 0,
      "outputs": []
    },
    {
      "cell_type": "markdown",
      "metadata": {
        "id": "PzN1XnpFkGDN",
        "colab_type": "text"
      },
      "source": [
        "편미분 구하기"
      ]
    },
    {
      "cell_type": "markdown",
      "metadata": {
        "id": "0QT3qVvlkJms",
        "colab_type": "text"
      },
      "source": [
        "**문제 1**: x0=3, x1=4 일때 x0 에 대한 편미분 af/ax0 를 구하라"
      ]
    },
    {
      "cell_type": "code",
      "metadata": {
        "id": "jR8TmVIEkRIZ",
        "colab_type": "code",
        "outputId": "97ca0bfe-9b23-4837-afc6-f30410eedeac",
        "colab": {
          "base_uri": "https://localhost:8080/",
          "height": 35
        }
      },
      "source": [
        "def function_tmp1(x0):\n",
        "  return x0*x0 + 4.0**2.0\n",
        "\n",
        "numerical_diff(function_tmp1, 3.0)"
      ],
      "execution_count": 0,
      "outputs": [
        {
          "output_type": "execute_result",
          "data": {
            "text/plain": [
              "6.00000000000378"
            ]
          },
          "metadata": {
            "tags": []
          },
          "execution_count": 21
        }
      ]
    },
    {
      "cell_type": "markdown",
      "metadata": {
        "id": "OUBQUALak7XW",
        "colab_type": "text"
      },
      "source": [
        "**문제2** : x0=3 x1=4 일때 x1에 대한 편미분 af/ax1을 구하라 "
      ]
    },
    {
      "cell_type": "code",
      "metadata": {
        "id": "DpWJowNSkfOq",
        "colab_type": "code",
        "outputId": "5d05f6da-67a7-45c0-8ae3-4b2a848b3365",
        "colab": {
          "base_uri": "https://localhost:8080/",
          "height": 35
        }
      },
      "source": [
        "def function_tmp2(x1):\n",
        "  return 3.0**2.0 + x1*x1\n",
        "\n",
        "numerical_diff(function_tmp2, 4.0)"
      ],
      "execution_count": 0,
      "outputs": [
        {
          "output_type": "execute_result",
          "data": {
            "text/plain": [
              "7.999999999999119"
            ]
          },
          "metadata": {
            "tags": []
          },
          "execution_count": 23
        }
      ]
    },
    {
      "cell_type": "markdown",
      "metadata": {
        "id": "UjmwwZm2lauL",
        "colab_type": "text"
      },
      "source": [
        "변수 x0,x1 중 하나를 값을 대입해서 구한 방법들임."
      ]
    },
    {
      "cell_type": "markdown",
      "metadata": {
        "id": "2ognqYoXlk1W",
        "colab_type": "text"
      },
      "source": [
        "## 4.4 기울기"
      ]
    },
    {
      "cell_type": "markdown",
      "metadata": {
        "id": "MeB7j7ypmDvy",
        "colab_type": "text"
      },
      "source": [
        "앞절의 예에서는 x0과 x1의 편미분을 변수별로 따로 계산했다. 그럼 x0과 x1의 편미분을 동시에 계산하고 싶다면 어떻게 해야할까?\n",
        "예를 들어 x0=3, x1=4 일때 양쪽의 편미분을 (af/ax0, af/ax1)을 계산한다고 생각해보자. 이때 (af/ax0, af/ax1)처럼 보든 변수의 편미분을 벡터로 정리한것을 **기울기** gradient 라고 한다."
      ]
    },
    {
      "cell_type": "code",
      "metadata": {
        "id": "LdlwYO9RlH2F",
        "colab_type": "code",
        "colab": {}
      },
      "source": [
        "def numerical_gradient(f,x):\n",
        "  h= 1e-4 #0.0001 을 나타냄\n",
        "  grad = np.zeros_like(x) # x 와 형상이 같은 배열을 생성\n",
        "  \n",
        "  for idx in range(x.size):\n",
        "    tmp_val = x[idx] \n",
        "    #f(x+h) 를 계산\n",
        "    x[idx] = tmp_val+h\n",
        "    fxh1 = f(x)\n",
        "    \n",
        "    #f(x-h) 를 계산\n",
        "    x[idx] = tmp_val-h\n",
        "    fxh2 = f(x)\n",
        "    \n",
        "    grad[idx] = (fxh1-fxh2)/(2*h)\n",
        "    x[idx] = tmp_val #값 복원\n",
        "  return grad"
      ],
      "execution_count": 0,
      "outputs": []
    },
    {
      "cell_type": "markdown",
      "metadata": {
        "id": "YYLlYG9knVwt",
        "colab_type": "text"
      },
      "source": [
        "numerical_gradioent(f,x) 함수의 인수인 f는 함수이고 x 는 넘파이 배열 이므로 넘파이 배열 x의 각 원소에 대해서 수치 미분을 구한다. (3,4),(0,2),(3,0) 에서의 기울기를 구해보자\n"
      ]
    },
    {
      "cell_type": "code",
      "metadata": {
        "id": "CFgA8yS7lhWP",
        "colab_type": "code",
        "outputId": "844dd55e-c850-4d64-9d0b-e262e348917a",
        "colab": {
          "base_uri": "https://localhost:8080/",
          "height": 35
        }
      },
      "source": [
        "numerical_gradient(function_2, np.array([3.0, 4.0]))"
      ],
      "execution_count": 0,
      "outputs": [
        {
          "output_type": "execute_result",
          "data": {
            "text/plain": [
              "array([6., 8.])"
            ]
          },
          "metadata": {
            "tags": []
          },
          "execution_count": 28
        }
      ]
    },
    {
      "cell_type": "code",
      "metadata": {
        "id": "6BdCuIRdlmWz",
        "colab_type": "code",
        "outputId": "17e25653-4445-4fe2-8778-2640400667c4",
        "colab": {
          "base_uri": "https://localhost:8080/",
          "height": 35
        }
      },
      "source": [
        "numerical_gradient(function_2, np.array([0.0, 2.0]))"
      ],
      "execution_count": 0,
      "outputs": [
        {
          "output_type": "execute_result",
          "data": {
            "text/plain": [
              "array([0., 4.])"
            ]
          },
          "metadata": {
            "tags": []
          },
          "execution_count": 29
        }
      ]
    },
    {
      "cell_type": "code",
      "metadata": {
        "id": "MU6IRLucn9SB",
        "colab_type": "code",
        "outputId": "82a19557-bf39-41db-c5f7-2768a61967a4",
        "colab": {
          "base_uri": "https://localhost:8080/",
          "height": 35
        }
      },
      "source": [
        "numerical_gradient(function_2, np.array([3.0, 0.0]))"
      ],
      "execution_count": 0,
      "outputs": [
        {
          "output_type": "execute_result",
          "data": {
            "text/plain": [
              "array([6., 0.])"
            ]
          },
          "metadata": {
            "tags": []
          },
          "execution_count": 30
        }
      ]
    },
    {
      "cell_type": "markdown",
      "metadata": {
        "id": "kBySeEREoGj3",
        "colab_type": "text"
      },
      "source": [
        "점 3,4 의 기울기는 (6,8) 점 0,2 의 기울기는 (0,4) 라는 결과를 얻는다\n"
      ]
    },
    {
      "cell_type": "code",
      "metadata": {
        "id": "mhkNMN9FtEZq",
        "colab_type": "code",
        "outputId": "cd3513e1-25ba-4fa2-e66f-81b973d718f5",
        "colab": {
          "base_uri": "https://localhost:8080/",
          "height": 301
        }
      },
      "source": [
        "# coding: utf-8\n",
        "# cf.http://d.hatena.ne.jp/white_wheels/20100327/p3\n",
        "import numpy as np\n",
        "import matplotlib.pylab as plt\n",
        "from mpl_toolkits.mplot3d import Axes3D\n",
        "\n",
        "\n",
        "def _numerical_gradient_no_batch(f, x):\n",
        "    h = 1e-4 # 0.0001\n",
        "    grad = np.zeros_like(x) # x와 형상이 같은 배열을 생성\n",
        "    \n",
        "    for idx in range(x.size):\n",
        "        tmp_val = x[idx]\n",
        "        \n",
        "        # f(x+h) 계산\n",
        "        x[idx] = float(tmp_val) + h\n",
        "        fxh1 = f(x)\n",
        "        \n",
        "        # f(x-h) 계산\n",
        "        x[idx] = tmp_val - h \n",
        "        fxh2 = f(x) \n",
        "        \n",
        "        grad[idx] = (fxh1 - fxh2) / (2*h)\n",
        "        x[idx] = tmp_val # 값 복원\n",
        "        \n",
        "    return grad\n",
        "\n",
        "\n",
        "def numerical_gradient(f, X):\n",
        "    if X.ndim == 1:\n",
        "        return _numerical_gradient_no_batch(f, X)\n",
        "    else:\n",
        "        grad = np.zeros_like(X)\n",
        "        \n",
        "        for idx, x in enumerate(X):\n",
        "            grad[idx] = _numerical_gradient_no_batch(f, x)\n",
        "        \n",
        "        return grad\n",
        "\n",
        "\n",
        "def function_2(x):\n",
        "    if x.ndim == 1:\n",
        "        return np.sum(x**2)\n",
        "    else:\n",
        "        return np.sum(x**2, axis=1)\n",
        "\n",
        "\n",
        "def tangent_line(f, x):\n",
        "    d = numerical_gradient(f, x)\n",
        "    print(d)\n",
        "    y = f(x) - d*x\n",
        "    return lambda t: d*t + y\n",
        "     \n",
        "if __name__ == '__main__':\n",
        "    x0 = np.arange(-2, 2.5, 0.25)\n",
        "    x1 = np.arange(-2, 2.5, 0.25)\n",
        "    X, Y = np.meshgrid(x0, x1)\n",
        "    \n",
        "    X = X.flatten()\n",
        "    Y = Y.flatten()\n",
        "    \n",
        "    grad = numerical_gradient(function_2, np.array([X, Y]) )\n",
        "    \n",
        "    plt.figure()\n",
        "    plt.quiver(X, Y, -grad[0], -grad[1],  angles=\"xy\",color=\"#666666\")#,headwidth=10,scale=40,color=\"#444444\")\n",
        "    plt.xlim([-2, 2])\n",
        "    plt.ylim([-2, 2])\n",
        "    plt.xlabel('x0')\n",
        "    plt.ylabel('x1')\n",
        "    plt.grid()\n",
        "    plt.legend()\n",
        "    plt.draw()\n",
        "    plt.show()"
      ],
      "execution_count": 0,
      "outputs": [
        {
          "output_type": "stream",
          "text": [
            "No handles with labels found to put in legend.\n"
          ],
          "name": "stderr"
        },
        {
          "output_type": "display_data",
          "data": {
            "image/png": "[encoded data removed]",
            "text/plain": [
              "<Figure size 432x288 with 1 Axes>"
            ]
          },
          "metadata": {
            "tags": []
          }
        }
      ]
    },
    {
      "cell_type": "markdown",
      "metadata": {
        "id": "86hGovJHojcI",
        "colab_type": "text"
      },
      "source": [
        "## 4.4.1 경사법(경사 하강법)"
      ]
    },
    {
      "cell_type": "code",
      "metadata": {
        "id": "XjHUfY3Kn-Xw",
        "colab_type": "code",
        "colab": {}
      },
      "source": [
        "def gradient_descent(f, init_x, lr=0.01, step_num=100):\n",
        "  x = init_x\n",
        "  \n",
        "  for i in range(step_num):\n",
        "    grad = numerical_gradient(f,x)\n",
        "    x -= lr*grad\n",
        "    \n",
        "  return x"
      ],
      "execution_count": 0,
      "outputs": []
    },
    {
      "cell_type": "markdown",
      "metadata": {
        "id": "VI-8O2sorm0v",
        "colab_type": "text"
      },
      "source": [
        "**인수f 는 최적화 하려는 함수, init_x는 초깃값, lr은 learning rate를 의미하는 학습률, step_num은 경사법에 따른 반복횟수를 뜻함|**"
      ]
    },
    {
      "cell_type": "markdown",
      "metadata": {
        "id": "bFQArRfnrzca",
        "colab_type": "text"
      },
      "source": [
        "**함수의 기울기는 numerical_gradient(f,x)로 구하고, 그 기울기에 학습률을 곱한 값으로 갱신하는 처리를 step_num번 반복한다**"
      ]
    },
    {
      "cell_type": "markdown",
      "metadata": {
        "id": "znXDhRTRr_Ur",
        "colab_type": "text"
      },
      "source": [
        "***문제: 경사법으로 f(x0,x1)=x0^2+x1^2의 최솟값을 구하라.***"
      ]
    },
    {
      "cell_type": "code",
      "metadata": {
        "id": "NHjHUs_ZoOoz",
        "colab_type": "code",
        "outputId": "ad18302b-aeea-43a5-c180-9639f1df1929",
        "colab": {
          "base_uri": "https://localhost:8080/",
          "height": 35
        }
      },
      "source": [
        "def function_2(x):\n",
        "  return x[0]**2 + x[1]**2\n",
        "\n",
        "init_x = np.array([-3.0, 4.0])\n",
        "gradient_descent(function_2, init_x=init_x, lr=0.1, step_num=100)"
      ],
      "execution_count": 0,
      "outputs": [
        {
          "output_type": "execute_result",
          "data": {
            "text/plain": [
              "array([-6.11110793e-10,  8.14814391e-10])"
            ]
          },
          "metadata": {
            "tags": []
          },
          "execution_count": 34
        }
      ]
    },
    {
      "cell_type": "markdown",
      "metadata": {
        "id": "V4rLJ1IWtyRr",
        "colab_type": "text"
      },
      "source": [
        "최종 결과는 (-6.11110793e-10, 8.14814391e-10) 으로 거의 (0,0) 에 가까운 결과이다. 실제로 진정한 최솟값은 (0,0)이므로 경사법에 거의 정확한 결과를 얻은 것이다."
      ]
    },
    {
      "cell_type": "code",
      "metadata": {
        "id": "ygJRzDiDxQUC",
        "colab_type": "code",
        "outputId": "92e6303a-13a5-4341-910b-47f2c9118a79",
        "colab": {
          "base_uri": "https://localhost:8080/",
          "height": 35
        }
      },
      "source": [
        "# 학습률이 너무 큰 예 lr=10.0\n",
        "init_x = np.array([-3.0,4.0])\n",
        "gradient_descent(function_2, init_x=init_x, lr=10.0, step_num=100)"
      ],
      "execution_count": 0,
      "outputs": [
        {
          "output_type": "execute_result",
          "data": {
            "text/plain": [
              "array([-2.58983747e+13, -1.29524862e+12])"
            ]
          },
          "metadata": {
            "tags": []
          },
          "execution_count": 49
        }
      ]
    },
    {
      "cell_type": "markdown",
      "metadata": {
        "id": "BrVkt19eyZfG",
        "colab_type": "text"
      },
      "source": [
        "학습률이 너무 크면 큰 값으로 발산한다"
      ]
    },
    {
      "cell_type": "code",
      "metadata": {
        "id": "djZXt_70xnPG",
        "colab_type": "code",
        "outputId": "5fb74959-2952-4544-b347-7f88981424ba",
        "colab": {
          "base_uri": "https://localhost:8080/",
          "height": 35
        }
      },
      "source": [
        "# 학습률이 너무 작은 예 lr=1e-10\n",
        "init_x = np.array([-3.0,4.0])\n",
        "gradient_descent(function_2, init_x=init_x, lr=1e-10, step_num=100)"
      ],
      "execution_count": 0,
      "outputs": [
        {
          "output_type": "execute_result",
          "data": {
            "text/plain": [
              "array([-2.99999994,  3.99999992])"
            ]
          },
          "metadata": {
            "tags": []
          },
          "execution_count": 50
        }
      ]
    },
    {
      "cell_type": "markdown",
      "metadata": {
        "id": "eejscOUMyeMd",
        "colab_type": "text"
      },
      "source": [
        "학습률이 너무 작으면 거의 갱신되지 않은 채로 끝난다."
      ]
    },
    {
      "cell_type": "markdown",
      "metadata": {
        "id": "Sc0ZGxcxzKLm",
        "colab_type": "text"
      },
      "source": [
        "**학습률을 적절히 설정해주는것이 중요하다**"
      ]
    },
    {
      "cell_type": "code",
      "metadata": {
        "id": "-_PYQyw846Ou",
        "colab_type": "code",
        "outputId": "535d3917-3832-4dd0-e9af-741e298eaa2c",
        "colab": {
          "base_uri": "https://localhost:8080/",
          "height": 35
        }
      },
      "source": [
        "from google.colab import drive\n",
        "drive.mount('/content/gdrive/')"
      ],
      "execution_count": 0,
      "outputs": [
        {
          "output_type": "stream",
          "text": [
            "Drive already mounted at /content/gdrive/; to attempt to forcibly remount, call drive.mount(\"/content/gdrive/\", force_remount=True).\n"
          ],
          "name": "stdout"
        }
      ]
    },
    {
      "cell_type": "code",
      "metadata": {
        "id": "55Is1KxX423u",
        "colab_type": "code",
        "outputId": "3517fbf3-49f1-4d78-dbce-0c6b2f1bab3a",
        "colab": {
          "base_uri": "https://localhost:8080/",
          "height": 283
        }
      },
      "source": [
        "# coding: utf-8\n",
        "import numpy as np\n",
        "import matplotlib.pylab as plt\n",
        "from gradient_2d import numerical_gradient\n",
        "\n",
        "\n",
        "def gradient_descent(f, init_x, lr=0.01, step_num=100):\n",
        "    x = init_x\n",
        "    x_history = []\n",
        "\n",
        "    for i in range(step_num):\n",
        "        x_history.append( x.copy() )\n",
        "\n",
        "        grad = numerical_gradient(f, x)\n",
        "        x -= lr * grad\n",
        "\n",
        "    return x, np.array(x_history)\n",
        "\n",
        "\n",
        "def function_2(x):\n",
        "    return x[0]**2 + x[1]**2\n",
        "\n",
        "init_x = np.array([-3.0, 4.0])    \n",
        "\n",
        "lr = 0.1\n",
        "step_num = 20\n",
        "x, x_history = gradient_descent(function_2, init_x, lr=lr, step_num=step_num)\n",
        "\n",
        "plt.plot( [-5, 5], [0,0], '--b')\n",
        "plt.plot( [0,0], [-5, 5], '--b')\n",
        "plt.plot(x_history[:,0], x_history[:,1], 'o')\n",
        "\n",
        "plt.xlim(-3.5, 3.5)\n",
        "plt.ylim(-4.5, 4.5)\n",
        "plt.xlabel(\"X0\")\n",
        "plt.ylabel(\"X1\")\n",
        "plt.show()"
      ],
      "execution_count": 65,
      "outputs": [
        {
          "output_type": "display_data",
          "data": {
            "image/png": "[encoded data removed]",
            "text/plain": [
              "<Figure size 432x288 with 1 Axes>"
            ]
          },
          "metadata": {
            "tags": []
          }
        }
      ]
    },
    {
      "cell_type": "markdown",
      "metadata": {
        "id": "_4AlYZuvzUzc",
        "colab_type": "text"
      },
      "source": [
        "## 4.4.2 신경망에서의 기울기"
      ]
    },
    {
      "cell_type": "code",
      "metadata": {
        "id": "_USpRbLbyhTo",
        "colab_type": "code",
        "outputId": "3984e5b4-dc20-4d1e-9bd1-5a48e335dd88",
        "colab": {
          "base_uri": "https://localhost:8080/",
          "height": 35
        }
      },
      "source": [
        "from google.colab import drive\n",
        "drive.mount('/content/gdrive/')"
      ],
      "execution_count": 0,
      "outputs": [
        {
          "output_type": "stream",
          "text": [
            "Drive already mounted at /content/gdrive/; to attempt to forcibly remount, call drive.mount(\"/content/gdrive/\", force_remount=True).\n"
          ],
          "name": "stdout"
        }
      ]
    },
    {
      "cell_type": "code",
      "metadata": {
        "id": "mX9murAwzWjH",
        "colab_type": "code",
        "colab": {}
      },
      "source": [
        "import os\n",
        "import sys\n",
        "sys.path.insert(0, '/content/gdrive/My Drive/')\n",
        "\n",
        "import mnist\n",
        "from mnist import load_mnist"
      ],
      "execution_count": 0,
      "outputs": []
    },
    {
      "cell_type": "code",
      "metadata": {
        "id": "MxUZDjz1ycoj",
        "colab_type": "code",
        "outputId": "f2a1fa07-aa6b-4ff4-bb5f-0acb903f95c1",
        "colab": {
          "base_uri": "https://localhost:8080/",
          "height": 53
        }
      },
      "source": [
        "# coding: utf-8\n",
        "import sys, os\n",
        "sys.path.insert(0, '/content/gdrive/My Drive/Colab Notebooks')# 부모 디렉터리의 파일을 가져올 수 있도록 설정\n",
        "import numpy as np\n",
        "from common.functions import softmax, cross_entropy_error\n",
        "from common.gradient import numerical_gradient\n",
        "\n",
        "\n",
        "class simpleNet:\n",
        "    def __init__(self):\n",
        "        self.W = np.random.randn(2,3) # 정규분포로 초기화\n",
        "\n",
        "    def predict(self, x):\n",
        "        return np.dot(x, self.W)\n",
        "\n",
        "    def loss(self, x, t):\n",
        "        z = self.predict(x)\n",
        "        y = softmax(z)\n",
        "        loss = cross_entropy_error(y, t)\n",
        "\n",
        "        return loss\n",
        "\n",
        "x = np.array([0.6, 0.9])\n",
        "t = np.array([0, 0, 1])\n",
        "\n",
        "net = simpleNet()\n",
        "\n",
        "f = lambda w: net.loss(x, t)\n",
        "dW = numerical_gradient(f, net.W)\n",
        "\n",
        "print(dW)"
      ],
      "execution_count": 64,
      "outputs": [
        {
          "output_type": "stream",
          "text": [
            "[[ 0.3116473   0.08531513 -0.39696243]\n",
            " [ 0.46747095  0.1279727  -0.59544365]]\n"
          ],
          "name": "stdout"
        }
      ]
    },
    {
      "cell_type": "code",
      "metadata": {
        "id": "qqCLiXq489PT",
        "colab_type": "code",
        "colab": {
          "base_uri": "https://localhost:8080/",
          "height": 136
        },
        "outputId": "de440886-2fa8-480c-f6dc-ff3137397af1"
      },
      "source": [
        "net = simpleNet()\n",
        "print(net.W) #가중치 매개변수\n",
        "[[ 0.47355232  0.9977393  0.84668094]\n",
        " [ 0.85557411  0.03563661 0.69422093]]"
      ],
      "execution_count": 68,
      "outputs": [
        {
          "output_type": "error",
          "ename": "SyntaxError",
          "evalue": "ignored",
          "traceback": [
            "\u001b[0;36m  File \u001b[0;32m\"<ipython-input-68-0b86999e5adc>\"\u001b[0;36m, line \u001b[0;32m3\u001b[0m\n\u001b[0;31m    [[ 0.47355232  0.99773930 0.84668094]\u001b[0m\n\u001b[0m                            ^\u001b[0m\n\u001b[0;31mSyntaxError\u001b[0m\u001b[0;31m:\u001b[0m invalid syntax\n"
          ]
        }
      ]
    },
    {
      "cell_type": "markdown",
      "metadata": {
        "id": "4vWhYQts3RJi",
        "colab_type": "text"
      },
      "source": [
        "## 4.5 학습 알고리즘 구현하기"
      ]
    },
    {
      "cell_type": "markdown",
      "metadata": {
        "id": "o9zqbga63eJ2",
        "colab_type": "text"
      },
      "source": [
        "### 전제\n",
        "신경망에는 적응 가능한 가중치와 편향이 있고, 이 가중치와 편향을 훈련 데이터에 적응 하도록 조정하는 과정을 '\n",
        "학습' 이라 합니다. 신경망 학습은 다음과 같이 4단계로 수행합니다.\n",
        "### 1단계 - 미니배치\n",
        "훈련 데이터 중 일부를 무작위로 가져옵니다. 이렇게 선별한 데이터를 미니배치라 하며, 그 미니배치의 손실 함수 값을 줄이는 것이 목표입니다.\n",
        "### 2단계 - 기울기 산출\n",
        "미니 배치의 손실 함수 값을 줄이기 위해 각 가중치 매개변수의 기울기를 구합니다. 기울기는 손실 함수의 값을 가장 작게 하는 방향을 제시 합니다.\n",
        "### 3단계 - 매개 변수 갱신\n",
        "가중치 매개변수를 기울기 방향으로 아주 조금 갱신합니다.\n",
        "### 4단계 - 반복\n",
        "1~3단계를 반복합니다."
      ]
    },
    {
      "cell_type": "markdown",
      "metadata": {
        "id": "o4qejUue5mda",
        "colab_type": "text"
      },
      "source": [
        "## 4.5.1 2층 신경망 클래스 구현하기"
      ]
    },
    {
      "cell_type": "code",
      "metadata": {
        "id": "2g9rF2t55pJY",
        "colab_type": "code",
        "colab": {}
      },
      "source": [
        "# coding: utf-8\n",
        "import sys, os\n",
        "sys.path.insert(0, '/content/gdrive/My Drive/Colab Notebooks') # 부모 디렉터리의 파일을 가져올 수 있도록 설정\n",
        "from common.functions import *\n",
        "from common.gradient import numerical_gradient\n",
        "\n",
        "\n",
        "class TwoLayerNet:\n",
        "\n",
        "    def __init__(self, input_size, hidden_size, output_size, weight_init_std=0.01):\n",
        "        # 가중치 초기화\n",
        "        self.params = {}\n",
        "        self.params['W1'] = weight_init_std * np.random.randn(input_size, hidden_size)\n",
        "        self.params['b1'] = np.zeros(hidden_size)\n",
        "        self.params['W2'] = weight_init_std * np.random.randn(hidden_size, output_size)\n",
        "        self.params['b2'] = np.zeros(output_size)\n",
        "\n",
        "    def predict(self, x):\n",
        "        W1, W2 = self.params['W1'], self.params['W2']\n",
        "        b1, b2 = self.params['b1'], self.params['b2']\n",
        "    \n",
        "        a1 = np.dot(x, W1) + b1\n",
        "        z1 = sigmoid(a1)\n",
        "        a2 = np.dot(z1, W2) + b2\n",
        "        y = softmax(a2)\n",
        "        \n",
        "        return y\n",
        "        \n",
        "    # x : 입력 데이터, t : 정답 레이블\n",
        "    def loss(self, x, t):\n",
        "        y = self.predict(x)\n",
        "        \n",
        "        return cross_entropy_error(y, t)\n",
        "    \n",
        "    def accuracy(self, x, t):\n",
        "        y = self.predict(x)\n",
        "        y = np.argmax(y, axis=1)\n",
        "        t = np.argmax(t, axis=1)\n",
        "        \n",
        "        accuracy = np.sum(y == t) / float(x.shape[0])\n",
        "        return accuracy\n",
        "        \n",
        "    # x : 입력 데이터, t : 정답 레이블\n",
        "    def numerical_gradient(self, x, t):\n",
        "        loss_W = lambda W: self.loss(x, t)\n",
        "        \n",
        "        grads = {}\n",
        "        grads['W1'] = numerical_gradient(loss_W, self.params['W1'])\n",
        "        grads['b1'] = numerical_gradient(loss_W, self.params['b1'])\n",
        "        grads['W2'] = numerical_gradient(loss_W, self.params['W2'])\n",
        "        grads['b2'] = numerical_gradient(loss_W, self.params['b2'])\n",
        "        \n",
        "        return grads\n",
        "        \n",
        "    def gradient(self, x, t):\n",
        "        W1, W2 = self.params['W1'], self.params['W2']\n",
        "        b1, b2 = self.params['b1'], self.params['b2']\n",
        "        grads = {}\n",
        "        \n",
        "        batch_num = x.shape[0]\n",
        "        \n",
        "        # forward\n",
        "        a1 = np.dot(x, W1) + b1\n",
        "        z1 = sigmoid(a1)\n",
        "        a2 = np.dot(z1, W2) + b2\n",
        "        y = softmax(a2)\n",
        "        \n",
        "        # backward\n",
        "        dy = (y - t) / batch_num\n",
        "        grads['W2'] = np.dot(z1.T, dy)\n",
        "        grads['b2'] = np.sum(dy, axis=0)\n",
        "        \n",
        "        da1 = np.dot(dy, W2.T)\n",
        "        dz1 = sigmoid_grad(a1) * da1\n",
        "        grads['W1'] = np.dot(x.T, dz1)\n",
        "        grads['b1'] = np.sum(dz1, axis=0)\n",
        "\n",
        "        return grads"
      ],
      "execution_count": 0,
      "outputs": []
    },
    {
      "cell_type": "code",
      "metadata": {
        "id": "rTiDKAXU5vwu",
        "colab_type": "code",
        "colab": {
          "base_uri": "https://localhost:8080/",
          "height": 35
        },
        "outputId": "e9b19494-bdce-4613-b8b3-8b241136d492"
      },
      "source": [
        "net = TwoLayerNet(input_size=784, hidden_size=100, output_size=10)\n",
        "net.params['W1'].shape # (784,100)\n",
        "net.params['b1'].shape # (100,)\n",
        "net.params['W2'].shape # (100, 10)\n",
        "net.params['b2'].shape # (10,)\n"
      ],
      "execution_count": 69,
      "outputs": [
        {
          "output_type": "execute_result",
          "data": {
            "text/plain": [
              "(10,)"
            ]
          },
          "metadata": {
            "tags": []
          },
          "execution_count": 69
        }
      ]
    },
    {
      "cell_type": "code",
      "metadata": {
        "id": "uktm4Shh-i9Z",
        "colab_type": "code",
        "colab": {}
      },
      "source": [
        "x = np.random.rand(100,784)\n",
        "y = net.predict(x)"
      ],
      "execution_count": 0,
      "outputs": []
    },
    {
      "cell_type": "code",
      "metadata": {
        "id": "kLvnpaGdBugf",
        "colab_type": "code",
        "colab": {
          "base_uri": "https://localhost:8080/",
          "height": 35
        },
        "outputId": "1c0da02b-1414-4284-c76e-d236a7ff3aab"
      },
      "source": [
        "x = np.random.rand(100,784)\n",
        "t = np.random.rand(100, 10)\n",
        "\n",
        "grads = net.numerical_gradient(x,t)\n",
        "\n",
        "grads['W1'].shape # (784, 100)\n",
        "grads['b1'].shape # (100,)\n",
        "grads['W2'].shape # (100, 10)\n",
        "grads['b2'].shape # (10,)"
      ],
      "execution_count": 71,
      "outputs": [
        {
          "output_type": "execute_result",
          "data": {
            "text/plain": [
              "(10,)"
            ]
          },
          "metadata": {
            "tags": []
          },
          "execution_count": 71
        }
      ]
    },
    {
      "cell_type": "code",
      "metadata": {
        "id": "IZHx0bFjCVLm",
        "colab_type": "code",
        "colab": {}
      },
      "source": [
        ""
      ],
      "execution_count": 0,
      "outputs": []
    },
    {
      "cell_type": "markdown",
      "metadata": {
        "id": "pYV8BwIsDCSa",
        "colab_type": "text"
      },
      "source": [
        "## 4.5.2 미니배치 학습 구현하기"
      ]
    },
    {
      "cell_type": "code",
      "metadata": {
        "id": "luVpNBqbDEHU",
        "colab_type": "code",
        "colab": {
          "base_uri": "https://localhost:8080/",
          "height": 589
        },
        "outputId": "6952cd65-6b7f-480e-d64e-dd287fafe97e"
      },
      "source": [
        "# coding: utf-8\n",
        "import sys, os\n",
        "sys.path.insert(0, '/content/gdrive/My Drive/dataset')  # 부모 디렉터리의 파일을 가져올 수 있도록 설정\n",
        "import numpy as np\n",
        "import matplotlib.pyplot as plt\n",
        "from dataset.mnist import load_mnist\n",
        "from two_layer_net import TwoLayerNet\n",
        "\n",
        "# 데이터 읽기\n",
        "(x_train, t_train), (x_test, t_test) = load_mnist(normalize=True, one_hot_label=True)\n",
        "\n",
        "network = TwoLayerNet(input_size=784, hidden_size=50, output_size=10)\n",
        "\n",
        "# 하이퍼파라미터\n",
        "iters_num = 10000  # 반복 횟수를 적절히 설정한다.\n",
        "train_size = x_train.shape[0]\n",
        "batch_size = 100   # 미니배치 크기\n",
        "learning_rate = 0.1\n",
        "\n",
        "train_loss_list = []\n",
        "train_acc_list = []\n",
        "test_acc_list = []\n",
        "\n",
        "# 1에폭당 반복 수\n",
        "iter_per_epoch = max(train_size / batch_size, 1)\n",
        "\n",
        "for i in range(iters_num):\n",
        "    # 미니배치 획득\n",
        "    batch_mask = np.random.choice(train_size, batch_size)\n",
        "    x_batch = x_train[batch_mask]\n",
        "    t_batch = t_train[batch_mask]\n",
        "    \n",
        "    # 기울기 계산\n",
        "    #grad = network.numerical_gradient(x_batch, t_batch)\n",
        "    grad = network.gradient(x_batch, t_batch)\n",
        "    \n",
        "    # 매개변수 갱신\n",
        "    for key in ('W1', 'b1', 'W2', 'b2'):\n",
        "        network.params[key] -= learning_rate * grad[key]\n",
        "    \n",
        "    # 학습 경과 기록\n",
        "    loss = network.loss(x_batch, t_batch)\n",
        "    train_loss_list.append(loss)\n",
        "    \n",
        "    # 1에폭당 정확도 계산\n",
        "    if i % iter_per_epoch == 0:\n",
        "        train_acc = network.accuracy(x_train, t_train)\n",
        "        test_acc = network.accuracy(x_test, t_test)\n",
        "        train_acc_list.append(train_acc)\n",
        "        test_acc_list.append(test_acc)\n",
        "        print(\"train acc, test acc | \" + str(train_acc) + \", \" + str(test_acc))\n",
        "\n",
        "# 그래프 그리기\n",
        "markers = {'train': 'o', 'test': 's'}\n",
        "x = np.arange(len(train_acc_list))\n",
        "plt.plot(x, train_acc_list, label='train acc')\n",
        "plt.plot(x, test_acc_list, label='test acc', linestyle='--')\n",
        "plt.xlabel(\"epochs\")\n",
        "plt.ylabel(\"accuracy\")\n",
        "plt.ylim(0, 1.0)\n",
        "plt.legend(loc='lower right')\n",
        "plt.show()"
      ],
      "execution_count": 73,
      "outputs": [
        {
          "output_type": "stream",
          "text": [
            "train acc, test acc | 0.09871666666666666, 0.098\n",
            "train acc, test acc | 0.7867666666666666, 0.7943\n",
            "train acc, test acc | 0.87095, 0.8741\n",
            "train acc, test acc | 0.8968166666666667, 0.9007\n",
            "train acc, test acc | 0.907, 0.9115\n",
            "train acc, test acc | 0.91285, 0.9141\n",
            "train acc, test acc | 0.9184333333333333, 0.9209\n",
            "train acc, test acc | 0.9224833333333333, 0.9251\n",
            "train acc, test acc | 0.9265333333333333, 0.9276\n",
            "train acc, test acc | 0.9306666666666666, 0.932\n",
            "train acc, test acc | 0.93375, 0.9355\n",
            "train acc, test acc | 0.9367, 0.9371\n",
            "train acc, test acc | 0.9393833333333333, 0.9388\n",
            "train acc, test acc | 0.9405666666666667, 0.9406\n",
            "train acc, test acc | 0.9434, 0.9424\n",
            "train acc, test acc | 0.9456333333333333, 0.944\n",
            "train acc, test acc | 0.9472666666666667, 0.946\n"
          ],
          "name": "stdout"
        },
        {
          "output_type": "display_data",
          "data": {
            "image/png": "[encoded data removed]",
            "text/plain": [
              "<Figure size 432x288 with 1 Axes>"
            ]
          },
          "metadata": {
            "tags": []
          }
        }
      ]
    },
    {
      "cell_type": "code",
      "metadata": {
        "id": "5MLT70RmDYDD",
        "colab_type": "code",
        "colab": {}
      },
      "source": [
        ""
      ],
      "execution_count": 0,
      "outputs": []
    }
  ]
}